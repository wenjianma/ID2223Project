{
 "cells": [
  {
   "cell_type": "code",
   "execution_count": 1,
   "metadata": {
    "ExecuteTime": {
     "end_time": "2024-01-06T14:52:00.352138Z",
     "start_time": "2024-01-06T14:52:00.350077Z"
    }
   },
   "outputs": [
    {
     "name": "stderr",
     "output_type": "stream",
     "text": [
      "DeprecationWarning: `np.bool8` is a deprecated alias for `np.bool_`.  (Deprecated NumPy 1.24)\n",
      "DeprecationWarning: the imp module is deprecated in favour of importlib and slated for removal in Python 3.12; see the module's documentation for alternative uses\n",
      "DeprecationWarning: `np.bool8` is a deprecated alias for `np.bool_`.  (Deprecated NumPy 1.24)\n"
     ]
    }
   ],
   "source": [
    "import hopsworks\n",
    "import pandas as pd\n",
    "import tensorflow as tf\n",
    "from keras.layers import Dense\n",
    "from keras.layers import LSTM\n",
    "from keras.models import Sequential\n",
    "import os\n",
    "import numpy as np\n",
    "import joblib\n",
    "import yfinance as yf\n",
    "from sklearn.preprocessing import MinMaxScaler"
   ]
  },
  {
   "cell_type": "code",
   "execution_count": 2,
   "metadata": {
    "ExecuteTime": {
     "end_time": "2024-01-06T14:52:03.066286Z",
     "start_time": "2024-01-06T14:52:01.284869Z"
    },
    "collapsed": false,
    "jupyter": {
     "outputs_hidden": false
    }
   },
   "outputs": [
    {
     "name": "stdout",
     "output_type": "stream",
     "text": [
      "Connected. Call `.close()` to terminate connection gracefully.\n",
      "\n",
      "Logged in to project, explore it here https://c.app.hopsworks.ai:443/p/194723\n",
      "Connected. Call `.close()` to terminate connection gracefully.\n"
     ]
    }
   ],
   "source": [
    "# # You have to set the environment variable 'HOPSWORKS_API_KEY' for login to succeed\n",
    "project = hopsworks.login()\n",
    "fs = project.get_feature_store()"
   ]
  },
  {
   "cell_type": "code",
   "execution_count": 3,
   "metadata": {
    "ExecuteTime": {
     "end_time": "2024-01-06T15:13:15.073686Z",
     "start_time": "2024-01-06T15:13:11.619225Z"
    },
    "collapsed": false,
    "jupyter": {
     "outputs_hidden": false
    }
   },
   "outputs": [
    {
     "name": "stdout",
     "output_type": "stream",
     "text": [
      "<hsfs.feature_group.FeatureGroup object at 0x10491c220>\n",
      "<hsfs.feature_view.FeatureView object at 0x2807b97b0>\n",
      "Finished: Reading data from Hopsworks, using ArrowFlight (1.09s) \n",
      "                          date        close\n",
      "0    2000-08-30 00:00:00+00:00   273.899994\n",
      "1    2000-08-31 00:00:00+00:00   278.299988\n",
      "2    2000-09-01 00:00:00+00:00   277.000000\n",
      "3    2000-09-05 00:00:00+00:00   275.799988\n",
      "4    2000-09-06 00:00:00+00:00   274.200012\n",
      "...                        ...          ...\n",
      "5854 2023-12-29 00:00:00+00:00  2062.399902\n",
      "5855 2024-01-02 00:00:00+00:00  2064.399902\n",
      "5856 2024-01-03 00:00:00+00:00  2034.199951\n",
      "5857 2024-01-04 00:00:00+00:00  2042.300049\n",
      "5858 2024-01-05 00:00:00+00:00  2042.400024\n",
      "\n",
      "[5859 rows x 2 columns]\n"
     ]
    }
   ],
   "source": [
    "# Get features (data) from feature store\n",
    "# gold data\n",
    "gold_fg = fs.get_feature_group(name=\"gold\", version=1)\n",
    "print(gold_fg)\n",
    "query = gold_fg.select_all()\n",
    "feature_view = fs.get_or_create_feature_view(name=\"gold\",\n",
    "                                  version=1,\n",
    "                                  description=\"Read from gold dataset\",\n",
    "                                  labels=[\"close\"],\n",
    "                                  query=query)\n",
    "print(feature_view)\n",
    "\n",
    "df_gold = gold_fg.read()\n",
    "df_gold = df_gold.sort_values(by=\"date\")\n",
    "df_gold.reset_index(drop=True,inplace=True)\n",
    "\n",
    "print(df_gold)\n",
    "y_gold = df_gold['close'].values.reshape(-1,1)"
   ]
  },
  {
   "cell_type": "code",
   "execution_count": 4,
   "metadata": {
    "collapsed": false,
    "jupyter": {
     "outputs_hidden": false
    }
   },
   "outputs": [],
   "source": [
    "# forecast setting\n",
    "n_forecast = 90  # length of output sequences (forecast period)\n",
    "n_lookback = 3*n_forecast  # length of input sequences (lookback period, should be 3 times longer than forecast period)"
   ]
  },
  {
   "cell_type": "code",
   "execution_count": null,
   "metadata": {
    "collapsed": false,
    "jupyter": {
     "outputs_hidden": false
    }
   },
   "outputs": [
    {
     "name": "stdout",
     "output_type": "stream",
     "text": [
      "(5500, 270, 1) (5500, 90, 1)\n",
      "Epoch 1/20\n"
     ]
    },
    {
     "name": "stderr",
     "output_type": "stream",
     "text": [
      "2024-01-06 15:24:51.164094: W tensorflow/tsl/platform/profile_utils/cpu_utils.cc:128] Failed to get CPU frequency: 0 Hz\n"
     ]
    },
    {
     "name": "stdout",
     "output_type": "stream",
     "text": [
      "172/172 [==============================] - 49s 277ms/step - loss: 0.0234\n",
      "Epoch 2/20\n",
      "172/172 [==============================] - 50s 288ms/step - loss: 0.0024\n",
      "Epoch 3/20\n",
      "172/172 [==============================] - 53s 310ms/step - loss: 0.0022\n",
      "Epoch 4/20\n",
      "172/172 [==============================] - 56s 325ms/step - loss: 0.0021\n",
      "Epoch 5/20\n",
      " 17/172 [=>............................] - ETA: 48s - loss: 0.0019"
     ]
    }
   ],
   "source": [
    "# Model Training for Gold\n",
    "scaler_gold = MinMaxScaler(feature_range=(0, 1))\n",
    "scaler_gold = scaler_gold.fit(y_gold)\n",
    "y_gold = scaler_gold.transform(y_gold)\n",
    "\n",
    "X_gold = []\n",
    "Y_gold = []\n",
    "\n",
    "for i in range(n_lookback, len(y_gold) - n_forecast + 1):\n",
    "    X_gold.append(y_gold[i - n_lookback: i])\n",
    "    Y_gold.append(y_gold[i: i + n_forecast])\n",
    "\n",
    "X_gold = np.array(X_gold)\n",
    "Y_gold = np.array(Y_gold)\n",
    "print(X_gold.shape, Y_gold.shape)\n",
    "\n",
    "# fit / train the model\n",
    "model_gold = Sequential()\n",
    "model_gold.add(LSTM(units=128, return_sequences=True, input_shape=(n_lookback, 1)))\n",
    "model_gold.add(LSTM(units=64, return_sequences=True))\n",
    "model_gold.add(LSTM(units=64, return_sequences=False))\n",
    "model_gold.add(Dense(n_forecast))\n",
    "model_gold.compile(loss='mean_squared_error', optimizer='adam')\n",
    "model_gold.fit(X_gold, Y_gold, epochs=20, batch_size=32, verbose=1)"
   ]
  },
  {
   "cell_type": "code",
   "execution_count": null,
   "metadata": {
    "collapsed": false,
    "jupyter": {
     "outputs_hidden": false
    }
   },
   "outputs": [],
   "source": [
    "# We will now upload our model to the Hopsworks Model Registry. First get an object for the model registry.\n",
    "mr = project.get_model_registry()\n",
    "model_dir=\"gold_model\"\n",
    "if os.path.isdir(model_dir) == False:\n",
    "    os.mkdir(model_dir)\n",
    "\n",
    "# Save both our model and the confusion matrix to 'model_dir', whose contents will be uploaded to the model registry\n",
    "joblib.dump(model_gold, model_dir + \"/gold_model.pkl\")\n",
    "# fig.savefig(model_dir + \"/wine_confusion_matrix.png\")\n",
    "\n",
    "# # Create an entry in the model registry that includes the model's name, desc, metrics\n",
    "gold_model = mr.python.create_model(\n",
    "    name=\"gold_model\",\n",
    "    # metrics={\"accuracy\" : metrics['accuracy']},\n",
    "    # model_schema=model_schema,\n",
    "    description=\"Gold Predictor\"\n",
    ")\n",
    "\n",
    "# Upload the model to the model registry, including all files in 'model_dir'\n",
    "gold_model.save(model_dir)\n"
   ]
  }
 ],
 "metadata": {
  "kernelspec": {
   "display_name": "Python 3 (ipykernel)",
   "language": "python",
   "name": "python3"
  },
  "language_info": {
   "codemirror_mode": {
    "name": "ipython",
    "version": 3
   },
   "file_extension": ".py",
   "mimetype": "text/x-python",
   "name": "python",
   "nbconvert_exporter": "python",
   "pygments_lexer": "ipython3",
   "version": "3.10.13"
  }
 },
 "nbformat": 4,
 "nbformat_minor": 4
}
