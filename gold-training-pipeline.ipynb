{
 "cells": [
  {
   "cell_type": "code",
   "execution_count": null,
   "metadata": {
    "collapsed": true
   },
   "outputs": [],
   "source": [
    "import hopsworks\n",
    "import pandas as pd\n",
    "import tensorflow as tf\n",
    "from keras.layers import Dense\n",
    "from keras.layers import LSTM\n",
    "from keras.models import Sequential\n",
    "import os\n",
    "import numpy as np\n",
    "import joblib\n",
    "import yfinance as yf\n",
    "from sklearn.preprocessing import MinMaxScaler"
   ]
  },
  {
   "cell_type": "code",
   "execution_count": null,
   "outputs": [],
   "source": [
    "# # You have to set the environment variable 'HOPSWORKS_API_KEY' for login to succeed\n",
    "project = hopsworks.login()\n",
    "fs = project.get_feature_store()"
   ],
   "metadata": {
    "collapsed": false
   }
  },
  {
   "cell_type": "code",
   "execution_count": null,
   "outputs": [],
   "source": [
    "# Get features (data) from feature store\n",
    "# gold data\n",
    "df_gold = pd.read_csv(\"Tools/GC=F.csv\")\n",
    "print(df_gold)\n",
    "y_gold = df_gold['Close'].values.reshape(-1,1)"
   ],
   "metadata": {
    "collapsed": false
   }
  },
  {
   "cell_type": "code",
   "execution_count": null,
   "outputs": [],
   "source": [
    "# forecast setting\n",
    "n_forecast = 90  # length of output sequences (forecast period)\n",
    "n_lookback = 3*n_forecast  # length of input sequences (lookback period, should be 3 times longer than forecast period)"
   ],
   "metadata": {
    "collapsed": false
   }
  },
  {
   "cell_type": "code",
   "execution_count": null,
   "outputs": [],
   "source": [
    "# Model Training for Gold\n",
    "scaler_gold = MinMaxScaler(feature_range=(0, 1))\n",
    "scaler_gold = scaler_gold.fit(y_gold)\n",
    "y_gold = scaler_gold.transform(y_gold)\n",
    "\n",
    "X_gold = []\n",
    "Y_gold = []\n",
    "\n",
    "for i in range(n_lookback, len(y_gold) - n_forecast + 1):\n",
    "    X_gold.append(y_gold[i - n_lookback: i])\n",
    "    Y_gold.append(y_gold[i: i + n_forecast])\n",
    "\n",
    "X_gold = np.array(X_gold)\n",
    "Y_gold = np.array(Y_gold)\n",
    "print(X_gold.shape, Y_gold.shape)\n",
    "\n",
    "# fit / train the model\n",
    "model_gold = Sequential()\n",
    "model_gold.add(LSTM(units=128, return_sequences=True, input_shape=(n_lookback, 1)))\n",
    "model_gold.add(LSTM(units=64, return_sequences=True))\n",
    "model_gold.add(LSTM(units=64, return_sequences=False))\n",
    "model_gold.add(Dense(n_forecast))\n",
    "model_gold.compile(loss='mean_squared_error', optimizer='adam')\n",
    "model_gold.fit(X_gold, Y_gold, epochs=20, batch_size=32, verbose=1)"
   ],
   "metadata": {
    "collapsed": false
   }
  },
  {
   "cell_type": "code",
   "execution_count": null,
   "outputs": [],
   "source": [
    "# We will now upload our model to the Hopsworks Model Registry. First get an object for the model registry.\n",
    "mr = project.get_model_registry()\n",
    "model_dir=\"gold_model\"\n",
    "if os.path.isdir(model_dir) == False:\n",
    "    os.mkdir(model_dir)\n",
    "\n",
    "# Save both our model and the confusion matrix to 'model_dir', whose contents will be uploaded to the model registry\n",
    "joblib.dump(model_gold, model_dir + \"/gold_model.pkl\")\n",
    "# fig.savefig(model_dir + \"/wine_confusion_matrix.png\")\n",
    "\n",
    "# # Create an entry in the model registry that includes the model's name, desc, metrics\n",
    "gold_model = mr.python.create_model(\n",
    "    name=\"gold_model\",\n",
    "    # metrics={\"accuracy\" : metrics['accuracy']},\n",
    "    # model_schema=model_schema,\n",
    "    description=\"Gold Predictor\"\n",
    ")\n",
    "\n",
    "# Upload the model to the model registry, including all files in 'model_dir'\n",
    "gold_model.save(model_dir)\n"
   ],
   "metadata": {
    "collapsed": false
   }
  }
 ],
 "metadata": {
  "kernelspec": {
   "display_name": "Python 3",
   "language": "python",
   "name": "python3"
  },
  "language_info": {
   "codemirror_mode": {
    "name": "ipython",
    "version": 2
   },
   "file_extension": ".py",
   "mimetype": "text/x-python",
   "name": "python",
   "nbconvert_exporter": "python",
   "pygments_lexer": "ipython2",
   "version": "2.7.6"
  }
 },
 "nbformat": 4,
 "nbformat_minor": 0
}
