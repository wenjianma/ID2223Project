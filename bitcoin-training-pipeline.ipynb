{
 "cells": [
  {
   "cell_type": "code",
   "execution_count": 1,
   "metadata": {
    "ExecuteTime": {
     "end_time": "2024-01-06T14:52:00.352138Z",
     "start_time": "2024-01-06T14:52:00.350077Z"
    }
   },
   "outputs": [
    {
     "name": "stderr",
     "output_type": "stream",
     "text": [
      "DeprecationWarning: `np.bool8` is a deprecated alias for `np.bool_`.  (Deprecated NumPy 1.24)\n"
     ]
    }
   ],
   "source": [
    "import hopsworks\n",
    "import pandas as pd\n",
    "import tensorflow as tf\n",
    "from keras.layers import Dense\n",
    "from keras.layers import LSTM\n",
    "from keras.models import Sequential\n",
    "import os\n",
    "import numpy as np\n",
    "import joblib\n",
    "import yfinance as yf\n",
    "from sklearn.preprocessing import MinMaxScaler"
   ]
  },
  {
   "cell_type": "code",
   "execution_count": 3,
   "metadata": {
    "ExecuteTime": {
     "end_time": "2024-01-06T14:52:03.066286Z",
     "start_time": "2024-01-06T14:52:01.284869Z"
    },
    "collapsed": false,
    "jupyter": {
     "outputs_hidden": false
    }
   },
   "outputs": [
    {
     "name": "stdout",
     "output_type": "stream",
     "text": [
      "Connected. Call `.close()` to terminate connection gracefully.\n",
      "\n",
      "Logged in to project, explore it here https://c.app.hopsworks.ai:443/p/196769\n",
      "Connected. Call `.close()` to terminate connection gracefully.\n"
     ]
    }
   ],
   "source": [
    "# # You have to set the environment variable 'HOPSWORKS_API_KEY' for login to succeed\n",
    "project = hopsworks.login()\n",
    "fs = project.get_feature_store()"
   ]
  },
  {
   "cell_type": "code",
   "execution_count": 4,
   "metadata": {
    "ExecuteTime": {
     "end_time": "2024-01-06T15:13:15.073686Z",
     "start_time": "2024-01-06T15:13:11.619225Z"
    },
    "collapsed": false,
    "jupyter": {
     "outputs_hidden": false
    }
   },
   "outputs": [
    {
     "name": "stdout",
     "output_type": "stream",
     "text": [
      "<hsfs.feature_group.FeatureGroup object at 0x0000013798CB1E80>\n",
      "<hsfs.feature_view.FeatureView object at 0x000001379972B610>\n",
      "Finished: Reading data from Hopsworks, using ArrowFlight (0.99s) \n",
      "                          date        close\n",
      "0    2000-08-30 00:00:00+00:00   273.899994\n",
      "1    2000-08-31 00:00:00+00:00   278.299988\n",
      "2    2000-09-01 00:00:00+00:00   277.000000\n",
      "3    2000-09-05 00:00:00+00:00   275.799988\n",
      "4    2000-09-06 00:00:00+00:00   274.200012\n",
      "...                        ...          ...\n",
      "5854 2023-12-29 00:00:00+00:00  2062.399902\n",
      "5855 2024-01-02 00:00:00+00:00  2064.399902\n",
      "5856 2024-01-03 00:00:00+00:00  2034.199951\n",
      "5857 2024-01-04 00:00:00+00:00  2042.300049\n",
      "5858 2024-01-05 00:00:00+00:00  2042.400024\n",
      "\n",
      "[5859 rows x 2 columns]\n"
     ]
    }
   ],
   "source": [
    "# Get features (data) from feature store\n",
    "# bitcoin data\n",
    "bitcoin_fg = fs.get_feature_group(name=\"bitcoin\", version=1)\n",
    "print(bitcoin_fg)\n",
    "query = bitcoin_fg.select_all()\n",
    "feature_view = fs.get_or_create_feature_view(name=\"bitcoin\",\n",
    "                                  version=1,\n",
    "                                  description=\"Read from bitcoin dataset\",\n",
    "                                  labels=[\"close\"],\n",
    "                                  query=query)\n",
    "print(feature_view)\n",
    "\n",
    "df_bitcoin = bitcoin_fg.read()\n",
    "df_bitcoin = df_bitcoin.sort_values(by=\"date\")\n",
    "df_bitcoin.reset_index(drop=True,inplace=True)\n",
    "\n",
    "print(df_bitcoin)\n",
    "y_bitcoin = df_bitcoin['close'].values.reshape(-1,1)"
   ]
  },
  {
   "cell_type": "code",
   "execution_count": 5,
   "metadata": {
    "collapsed": false,
    "jupyter": {
     "outputs_hidden": false
    }
   },
   "outputs": [],
   "source": [
    "# forecast setting\n",
    "n_forecast = 90  # length of output sequences (forecast period)\n",
    "n_lookback = 3*n_forecast  # length of input sequences (lookback period, should be 3 times longer than forecast period)"
   ]
  },
  {
   "cell_type": "code",
   "execution_count": 6,
   "metadata": {
    "collapsed": false,
    "jupyter": {
     "outputs_hidden": false
    }
   },
   "outputs": [
    {
     "name": "stdout",
     "output_type": "stream",
     "text": [
      "(5500, 270, 1) (5500, 90, 1)\n",
      "Epoch 1/20\n",
      "172/172 [==============================] - 44s 236ms/step - loss: 0.0211\n",
      "Epoch 2/20\n",
      "172/172 [==============================] - 41s 237ms/step - loss: 0.0024\n",
      "Epoch 3/20\n",
      "172/172 [==============================] - 42s 242ms/step - loss: 0.0022\n",
      "Epoch 4/20\n",
      "172/172 [==============================] - 41s 240ms/step - loss: 0.0022\n",
      "Epoch 5/20\n",
      "172/172 [==============================] - 42s 243ms/step - loss: 0.0023\n",
      "Epoch 6/20\n",
      "172/172 [==============================] - 42s 243ms/step - loss: 0.0020\n",
      "Epoch 7/20\n",
      "172/172 [==============================] - 41s 241ms/step - loss: 0.0021\n",
      "Epoch 8/20\n",
      "172/172 [==============================] - 42s 243ms/step - loss: 0.0020\n",
      "Epoch 9/20\n",
      "172/172 [==============================] - 42s 242ms/step - loss: 0.0021\n",
      "Epoch 10/20\n",
      "172/172 [==============================] - 41s 240ms/step - loss: 0.0020\n",
      "Epoch 11/20\n",
      "172/172 [==============================] - 42s 242ms/step - loss: 0.0020\n",
      "Epoch 12/20\n",
      "172/172 [==============================] - 42s 242ms/step - loss: 0.0020\n",
      "Epoch 13/20\n",
      "172/172 [==============================] - 41s 241ms/step - loss: 0.0020\n",
      "Epoch 14/20\n",
      "172/172 [==============================] - 42s 242ms/step - loss: 0.0020\n",
      "Epoch 15/20\n",
      "172/172 [==============================] - 42s 242ms/step - loss: 0.0020\n",
      "Epoch 16/20\n",
      "172/172 [==============================] - 41s 241ms/step - loss: 0.0021\n",
      "Epoch 17/20\n",
      "172/172 [==============================] - 42s 242ms/step - loss: 0.0019\n",
      "Epoch 18/20\n",
      "172/172 [==============================] - 41s 241ms/step - loss: 0.0019\n",
      "Epoch 19/20\n",
      "172/172 [==============================] - 42s 243ms/step - loss: 0.0018\n",
      "Epoch 20/20\n",
      "172/172 [==============================] - 42s 244ms/step - loss: 0.0019\n"
     ]
    },
    {
     "data": {
      "text/plain": [
       "<keras.callbacks.History at 0x1379cdf4ac0>"
      ]
     },
     "execution_count": 6,
     "metadata": {},
     "output_type": "execute_result"
    }
   ],
   "source": [
    "# Model Training for bitcoin\n",
    "scaler_bitcoin = MinMaxScaler(feature_range=(0, 1))\n",
    "scaler_bitcoin = scaler_bitcoin.fit(y_bitcoin)\n",
    "y_bitcoin = scaler_bitcoin.transform(y_bitcoin)\n",
    "\n",
    "X_bitcoin = []\n",
    "Y_bitcoin = []\n",
    "\n",
    "for i in range(n_lookback, len(y_bitcoin) - n_forecast + 1):\n",
    "    X_bitcoin.append(y_bitcoin[i - n_lookback: i])\n",
    "    Y_bitcoin.append(y_bitcoin[i: i + n_forecast])\n",
    "\n",
    "X_bitcoin = np.array(X_bitcoin)\n",
    "Y_bitcoin = np.array(Y_bitcoin)\n",
    "print(X_bitcoin.shape, Y_bitcoin.shape)\n",
    "\n",
    "# fit / train the model\n",
    "model_bitcoin = Sequential()\n",
    "model_bitcoin.add(LSTM(units=128, return_sequences=True, input_shape=(n_lookback, 1)))\n",
    "model_bitcoin.add(LSTM(units=64, return_sequences=True))\n",
    "model_bitcoin.add(LSTM(units=64, return_sequences=False))\n",
    "model_bitcoin.add(Dense(n_forecast))\n",
    "model_bitcoin.compile(loss='mean_squared_error', optimizer='adam')\n",
    "model_bitcoin.fit(X_bitcoin, Y_bitcoin, epochs=20, batch_size=32, verbose=1)"
   ]
  },
  {
   "cell_type": "code",
   "execution_count": 27,
   "metadata": {
    "collapsed": false,
    "jupyter": {
     "outputs_hidden": false
    }
   },
   "outputs": [
    {
     "name": "stdout",
     "output_type": "stream",
     "text": [
      "Connected. Call `.close()` to terminate connection gracefully.\n",
      "Keras weights file (<HDF5 file \"variables.h5\" (mode r+)>) saving:\n",
      "...layers\\dense\n",
      "......vars\n",
      ".........0\n",
      ".........1\n",
      "...layers\\lstm\n",
      "......vars\n",
      "...layers\\lstm\\cell\n",
      "......vars\n",
      ".........0\n",
      ".........1\n",
      ".........2\n",
      "...layers\\lstm_1\n",
      "......vars\n",
      "...layers\\lstm_1\\cell\n",
      "......vars\n",
      ".........0\n",
      ".........1\n",
      ".........2\n",
      "...layers\\lstm_2\n",
      "......vars\n",
      "...layers\\lstm_2\\cell\n",
      "......vars\n",
      ".........0\n",
      ".........1\n",
      ".........2\n",
      "...metrics\\mean\n",
      "......vars\n",
      ".........0\n",
      ".........1\n",
      "...optimizer\n",
      "......vars\n",
      ".........0\n",
      ".........1\n",
      ".........10\n",
      ".........11\n",
      ".........12\n",
      ".........13\n",
      ".........14\n",
      ".........15\n",
      ".........16\n",
      ".........17\n",
      ".........18\n",
      ".........19\n",
      ".........2\n",
      ".........20\n",
      ".........21\n",
      ".........22\n",
      ".........3\n",
      ".........4\n",
      ".........5\n",
      ".........6\n",
      ".........7\n",
      ".........8\n",
      ".........9\n",
      "...vars\n",
      "Keras model archive saving:\n",
      "File Name                                             Modified             Size\n",
      "config.json                                    2024-01-11 21:02:06         3468\n",
      "metadata.json                                  2024-01-11 21:02:06           64\n",
      "variables.h5                                   2024-01-11 21:02:06      1890808\n"
     ]
    },
    {
     "data": {
      "application/vnd.jupyter.widget-view+json": {
       "model_id": "e0004791a2f64d27b5979c73800739b1",
       "version_major": 2,
       "version_minor": 0
      },
      "text/plain": [
       "  0%|          | 0/6 [00:00<?, ?it/s]"
      ]
     },
     "metadata": {},
     "output_type": "display_data"
    },
    {
     "name": "stdout",
     "output_type": "stream",
     "text": [
      "Model created, explore it at https://c.app.hopsworks.ai:443/p/196769/models/gold_model/3\n"
     ]
    },
    {
     "data": {
      "text/plain": [
       "Model(name: 'gold_model', version: 3)"
      ]
     },
     "execution_count": 27,
     "metadata": {},
     "output_type": "execute_result"
    }
   ],
   "source": [
    "# We will now upload our model to the Hopsworks Model Registry. First get an object for the model registry.\n",
    "mr = project.get_model_registry()\n",
    "model_dir=\"bitcoin_model\"\n",
    "if os.path.isdir(model_dir) == False:\n",
    "    os.mkdir(model_dir)\n",
    "\n",
    "# Save both our model and the confusion matrix to 'model_dir', whose contents will be uploaded to the model registry\n",
    "joblib.dump(model_bitcoin, model_dir + \"/bitcoin_model.pkl\")\n",
    "# fig.savefig(model_dir + \"/wine_confusion_matrix.png\")\n",
    "\n",
    "# # Create an entry in the model registry that includes the model's name, desc, metrics\n",
    "bitcoin_model = mr.python.create_model(\n",
    "    name=\"bitcoin_model\",\n",
    "    # metrics={\"accuracy\" : metrics['accuracy']},\n",
    "    # model_schema=model_schema,\n",
    "    description=\"bitcoin Predictor\"\n",
    ")\n",
    "\n",
    "# Upload the model to the model registry, including all files in 'model_dir'\n",
    "bitcoin_model.save(model_dir)\n"
   ]
  },
  {
   "cell_type": "code",
   "execution_count": null,
   "metadata": {},
   "outputs": [],
   "source": []
  },
  {
   "cell_type": "code",
   "execution_count": null,
   "metadata": {},
   "outputs": [],
   "source": []
  }
 ],
 "metadata": {
  "kernelspec": {
   "display_name": "Python 3 (ipykernel)",
   "language": "python",
   "name": "python3"
  },
  "language_info": {
   "codemirror_mode": {
    "name": "ipython",
    "version": 3
   },
   "file_extension": ".py",
   "mimetype": "text/x-python",
   "name": "python",
   "nbconvert_exporter": "python",
   "pygments_lexer": "ipython3",
   "version": "3.9.18"
  }
 },
 "nbformat": 4,
 "nbformat_minor": 4
}
