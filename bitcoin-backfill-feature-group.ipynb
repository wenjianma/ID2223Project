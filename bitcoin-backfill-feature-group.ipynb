{
 "cells": [
  {
   "cell_type": "code",
   "execution_count": 1,
   "id": "5e332935",
   "metadata": {},
   "outputs": [],
   "source": [
    "import seaborn as sns\n",
    "sns.set_palette('husl')\n",
    "import matplotlib.pyplot as plt\n",
    "%matplotlib inline"
   ]
  },
  {
   "cell_type": "code",
   "execution_count": 2,
   "id": "b720e1e6",
   "metadata": {},
   "outputs": [],
   "source": [
    "import hopsworks\n",
    "import pandas as pd\n",
    "import numpy as np"
   ]
  },
  {
   "cell_type": "code",
   "execution_count": 3,
   "id": "7f74f260",
   "metadata": {},
   "outputs": [
    {
     "name": "stdout",
     "output_type": "stream",
     "text": [
      "Connected. Call `.close()` to terminate connection gracefully.\n",
      "\n",
      "Logged in to project, explore it here https://c.app.hopsworks.ai:443/p/194723\n",
      "Connected. Call `.close()` to terminate connection gracefully.\n"
     ]
    }
   ],
   "source": [
    "project = hopsworks.login()\n",
    "fs = project.get_feature_store()"
   ]
  },
  {
   "cell_type": "code",
   "execution_count": 4,
   "id": "d6e407db",
   "metadata": {},
   "outputs": [
    {
     "data": {
      "text/html": [
       "<div>\n",
       "<style scoped>\n",
       "    .dataframe tbody tr th:only-of-type {\n",
       "        vertical-align: middle;\n",
       "    }\n",
       "\n",
       "    .dataframe tbody tr th {\n",
       "        vertical-align: top;\n",
       "    }\n",
       "\n",
       "    .dataframe thead th {\n",
       "        text-align: right;\n",
       "    }\n",
       "</style>\n",
       "<table border=\"1\" class=\"dataframe\">\n",
       "  <thead>\n",
       "    <tr style=\"text-align: right;\">\n",
       "      <th></th>\n",
       "      <th>Date</th>\n",
       "      <th>Close</th>\n",
       "    </tr>\n",
       "  </thead>\n",
       "  <tbody>\n",
       "    <tr>\n",
       "      <th>0</th>\n",
       "      <td>2000-08-30</td>\n",
       "      <td>273.899994</td>\n",
       "    </tr>\n",
       "    <tr>\n",
       "      <th>1</th>\n",
       "      <td>2000-08-31</td>\n",
       "      <td>278.299988</td>\n",
       "    </tr>\n",
       "    <tr>\n",
       "      <th>2</th>\n",
       "      <td>2000-09-01</td>\n",
       "      <td>277.000000</td>\n",
       "    </tr>\n",
       "    <tr>\n",
       "      <th>3</th>\n",
       "      <td>2000-09-05</td>\n",
       "      <td>275.799988</td>\n",
       "    </tr>\n",
       "    <tr>\n",
       "      <th>4</th>\n",
       "      <td>2000-09-06</td>\n",
       "      <td>274.200012</td>\n",
       "    </tr>\n",
       "    <tr>\n",
       "      <th>...</th>\n",
       "      <td>...</td>\n",
       "      <td>...</td>\n",
       "    </tr>\n",
       "    <tr>\n",
       "      <th>5858</th>\n",
       "      <td>2024-01-05</td>\n",
       "      <td>2042.400024</td>\n",
       "    </tr>\n",
       "    <tr>\n",
       "      <th>5859</th>\n",
       "      <td>2024-01-08</td>\n",
       "      <td>2026.599976</td>\n",
       "    </tr>\n",
       "    <tr>\n",
       "      <th>5860</th>\n",
       "      <td>2024-01-09</td>\n",
       "      <td>2026.400024</td>\n",
       "    </tr>\n",
       "    <tr>\n",
       "      <th>5861</th>\n",
       "      <td>2024-01-10</td>\n",
       "      <td>2021.699951</td>\n",
       "    </tr>\n",
       "    <tr>\n",
       "      <th>5862</th>\n",
       "      <td>2024-01-11</td>\n",
       "      <td>2018.699951</td>\n",
       "    </tr>\n",
       "  </tbody>\n",
       "</table>\n",
       "<p>5863 rows × 2 columns</p>\n",
       "</div>"
      ],
      "text/plain": [
       "            Date        Close\n",
       "0     2000-08-30   273.899994\n",
       "1     2000-08-31   278.299988\n",
       "2     2000-09-01   277.000000\n",
       "3     2000-09-05   275.799988\n",
       "4     2000-09-06   274.200012\n",
       "...          ...          ...\n",
       "5858  2024-01-05  2042.400024\n",
       "5859  2024-01-08  2026.599976\n",
       "5860  2024-01-09  2026.400024\n",
       "5861  2024-01-10  2021.699951\n",
       "5862  2024-01-11  2018.699951\n",
       "\n",
       "[5863 rows x 2 columns]"
      ]
     },
     "execution_count": 4,
     "metadata": {},
     "output_type": "execute_result"
    }
   ],
   "source": [
    "df = pd.read_csv(\"Tools/GC=F.csv\")\n",
    "df"
   ]
  },
  {
   "cell_type": "code",
   "execution_count": 5,
   "id": "67922f4f",
   "metadata": {},
   "outputs": [
    {
     "name": "stdout",
     "output_type": "stream",
     "text": [
      "<class 'pandas.core.frame.DataFrame'>\n",
      "RangeIndex: 5863 entries, 0 to 5862\n",
      "Data columns (total 2 columns):\n",
      " #   Column  Non-Null Count  Dtype  \n",
      "---  ------  --------------  -----  \n",
      " 0   Date    5863 non-null   object \n",
      " 1   Close   5863 non-null   float64\n",
      "dtypes: float64(1), object(1)\n",
      "memory usage: 91.7+ KB\n"
     ]
    }
   ],
   "source": [
    "df.info()\n",
    "# the dtype of \"type\" column is object\n",
    "# some elements are null"
   ]
  },
  {
   "cell_type": "code",
   "execution_count": 6,
   "id": "28d13684",
   "metadata": {},
   "outputs": [],
   "source": [
    "# Assuming df is your original DataFrame\n",
    "# If your Date column is not in datetime format, convert it first\n",
    "# df['Date'] = pd.to_datetime(df['Date'])\n",
    "\n",
    "# Create a new DataFrame with a complete date range\n",
    "# date_range = pd.date_range(start=df['Date'].min(), end=df['Date'].max(), freq='D')\n",
    "# complete_df = pd.DataFrame({'Date': date_range})\n",
    "\n",
    "# Merge the original DataFrame with the complete date range DataFrame\n",
    "# merged_df = pd.merge(complete_df, df, on='Date', how='left')\n",
    "\n",
    "# Forward-fill missing values in the Close column\n",
    "# merged_df['Close'] = merged_df['Close'].ffill()"
   ]
  },
  {
   "cell_type": "code",
   "execution_count": 7,
   "id": "75f9db28-71e4-46e6-878e-0009d89bdf04",
   "metadata": {},
   "outputs": [
    {
     "data": {
      "image/png": "[encoded data removed]",
      "text/plain": [
       "<Figure size 1000x600 with 1 Axes>"
      ]
     },
     "metadata": {},
     "output_type": "display_data"
    }
   ],
   "source": [
    "import matplotlib.pyplot as plt\n",
    "\n",
    "# Assuming df is your DataFrame with the 'Close' column\n",
    "# If your Date column is not in datetime format, convert it first\n",
    "df['Date'] = pd.to_datetime(df['Date'])\n",
    "\n",
    "# Create a line chart\n",
    "plt.figure(figsize=(10, 6))  # Adjust the figure size if needed\n",
    "df.plot(x='Date', y='Close', kind='line', linestyle='-', color='blue', ax=plt.gca())\n",
    "plt.title('Line Chart of Close')\n",
    "plt.xlabel('Date')\n",
    "plt.ylabel('Close')\n",
    "plt.grid(True)\n",
    "plt.show()"
   ]
  },
  {
   "cell_type": "markdown",
   "id": "6e6adb93",
   "metadata": {},
   "source": [
    "### Insert our Wine DataFrame into a FeatureGroup\n",
    "Let's write our historical wine feature values and labels to a feature group.\n",
    "When you write historical data, this process is called `backfilling`."
   ]
  },
  {
   "cell_type": "code",
   "execution_count": 8,
   "id": "6df9d07f",
   "metadata": {},
   "outputs": [
    {
     "name": "stderr",
     "output_type": "stream",
     "text": [
      "FeatureGroupWarning: The ingested dataframe contains upper case letters in feature names: `['Date', 'Close']`. Feature names are sanitized to lower case in the feature store.\n"
     ]
    },
    {
     "name": "stdout",
     "output_type": "stream",
     "text": [
      "Feature Group created successfully, explore it at \n",
      "https://c.app.hopsworks.ai:443/p/194723/fs/194642/fg/407916\n"
     ]
    },
    {
     "data": {
      "application/vnd.jupyter.widget-view+json": {
       "model_id": "8a8b27b3237840c28c3cceffedd9eff7",
       "version_major": 2,
       "version_minor": 0
      },
      "text/plain": [
       "Uploading Dataframe: 0.00% |          | Rows 0/5863 | Elapsed Time: 00:00 | Remaining Time: ?"
      ]
     },
     "metadata": {},
     "output_type": "display_data"
    },
    {
     "name": "stdout",
     "output_type": "stream",
     "text": [
      "Launching job: gold_2_offline_fg_materialization\n",
      "Job started successfully, you can follow the progress at \n",
      "https://c.app.hopsworks.ai/p/194723/jobs/named/gold_2_offline_fg_materialization/executions\n"
     ]
    },
    {
     "data": {
      "text/plain": [
       "(<hsfs.core.job.Job at 0x15e213d00>, None)"
      ]
     },
     "execution_count": 8,
     "metadata": {},
     "output_type": "execute_result"
    }
   ],
   "source": [
    "bitcoin_fg = fs.get_or_create_feature_group(\n",
    "    name=\"bitcoin\",\n",
    "    version=1,\n",
    "    # remember to change the version if we want to modify the feature group\n",
    "    primary_key=[\"Date\",\"Close\"], \n",
    "    description=\"bitcoin dataset\")\n",
    "bitcoin_fg.insert(df)"
   ]
  },
  {
   "cell_type": "code",
   "execution_count": null,
   "id": "7ce9376f-9495-4c28-8e3c-576920e89daf",
   "metadata": {},
   "outputs": [],
   "source": []
  }
 ],
 "metadata": {
  "kernelspec": {
   "display_name": "Python 3 (ipykernel)",
   "language": "python",
   "name": "python3"
  },
  "language_info": {
   "codemirror_mode": {
    "name": "ipython",
    "version": 3
   },
   "file_extension": ".py",
   "mimetype": "text/x-python",
   "name": "python",
   "nbconvert_exporter": "python",
   "pygments_lexer": "ipython3",
   "version": "3.10.13"
  }
 },
 "nbformat": 4,
 "nbformat_minor": 5
}
